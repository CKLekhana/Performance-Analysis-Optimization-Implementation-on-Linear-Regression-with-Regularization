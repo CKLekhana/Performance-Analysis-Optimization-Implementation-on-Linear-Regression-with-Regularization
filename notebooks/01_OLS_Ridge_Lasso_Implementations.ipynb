{
 "cells": [
  {
   "cell_type": "markdown",
   "id": "ab14bf16-6372-45ee-bfba-0bf0ed229ffb",
   "metadata": {},
   "source": [
    "# Experimentation of Linear Regression Models"
   ]
  },
  {
   "cell_type": "code",
   "execution_count": 1,
   "id": "d85a077e-7d7b-4ec2-b712-fc0f44e07b74",
   "metadata": {},
   "outputs": [],
   "source": [
    "# importing required libraries\n",
    "import numpy as np\n",
    "import pandas as pd\n",
    "import matplotlib.pyplot as plt\n",
    "from sklearn.linear_model import LinearRegression, Ridge, Lasso, SGDRegressor\n",
    "from sklearn.metrics import mean_squared_error as mse\n",
    "import os\n",
    "import joblib"
   ]
  },
  {
   "cell_type": "markdown",
   "id": "e360131d-70cc-44ad-a2ed-e8f55a14563a",
   "metadata": {},
   "source": [
    "### Loading train and test sets of synthetic data and concrete compressive strength"
   ]
  },
  {
   "cell_type": "code",
   "execution_count": 2,
   "id": "69e7261f-77fc-4da6-bb22-054b51fb3a84",
   "metadata": {},
   "outputs": [
    {
     "name": "stdout",
     "output_type": "stream",
     "text": [
      "Data Files : \n",
      " ['ccs_test_scaled_x.csv', 'ccs_test_scaled_y.csv', 'ccs_train_scaled_x.csv', 'ccs_train_scaled_y.csv', 'c_test_scaled_y.csv', 'synthetic_test_scaled_x.csv', 'synthetic_test_scaled_y.csv', 'synthetic_train_scaled_x.csv', 'synthetic_train_scaled_y.csv', 'synthetic_true_beta.csv']\n",
      "\n",
      "Model Files : \n",
      " ['ccs_scaler_x.pkl', 'ccs_scaler_y.pkl', 'synthetic_scaler_x.pkl', 'synthetic_scaler_y.pkl']\n"
     ]
    }
   ],
   "source": [
    "cwd = os.getcwd()\n",
    "data_dir = os.path.join(os.path.dirname(cwd), \"data/processed\")\n",
    "model_dir = os.path.join(os.path.dirname(cwd), \"models\")\n",
    "# listing all the files\n",
    "data_files = os.listdir(data_dir)\n",
    "model_files = os.listdir(model_dir)\n",
    "print(\"Data Files : \\n\", data_files)\n",
    "print(\"\\nModel Files : \\n\", model_files)"
   ]
  },
  {
   "cell_type": "code",
   "execution_count": 3,
   "id": "65a05a56-8594-47e2-9cc4-d3fc8da68523",
   "metadata": {},
   "outputs": [],
   "source": [
    "# loading all the synthetic data\n",
    "syn_files = ['synthetic_test_scaled_x.csv', 'synthetic_test_scaled_y.csv', 'synthetic_train_scaled_x.csv', \n",
    "             'synthetic_train_scaled_y.csv', 'synthetic_true_beta.csv']\n",
    "\n",
    "syn_test_scaled_x, syn_test_scaled_y, syn_train_scaled_x, syn_train_scaled_y, syn_true_beta = [np.array(pd.read_csv(os.path.join(data_dir, syn_files[i])))\n",
    "                                                                                                                             for i in range(5)]\n",
    "\n",
    "# loading all the concrete compressive strength data\n",
    "ccs_files = ['ccs_test_scaled_x.csv', 'ccs_test_scaled_y.csv', 'ccs_train_scaled_x.csv', 'ccs_train_scaled_y.csv']\n",
    "\n",
    "ccs_test_scaled_x, ccs_test_scaled_y, ccs_train_scaled_x, ccs_train_scaled_y= [np.array(pd.read_csv(os.path.join(data_dir, ccs_files[i]))) for i in range(4)]"
   ]
  },
  {
   "cell_type": "code",
   "execution_count": 4,
   "id": "e5f1af95-b757-4406-a784-066986718d03",
   "metadata": {},
   "outputs": [],
   "source": [
    "# loading all the scalers\n",
    "ccs_scaler_x, ccs_scaler_y, synthetic_scaler_x, synthetic_scaler_y = [joblib.load(os.path.join(model_dir, model_files[i])) for i in range(4)]"
   ]
  },
  {
   "cell_type": "markdown",
   "id": "4d680f0c-0fbe-49fe-a5d1-7396000d37fc",
   "metadata": {},
   "source": [
    "## Ordinary Least Squares Experimentation"
   ]
  },
  {
   "cell_type": "markdown",
   "id": "12c0eb78-f51f-4baf-8d3d-00e1d017e037",
   "metadata": {},
   "source": [
    "### Synthetic data"
   ]
  },
  {
   "cell_type": "code",
   "execution_count": 5,
   "id": "657b982c-aff5-46ec-8c59-97e643c9fb4f",
   "metadata": {},
   "outputs": [
    {
     "name": "stdout",
     "output_type": "stream",
     "text": [
      "MSE : 0.0019372109275486045 \n",
      "R2 Score : 0.9978326567085775\n",
      "Actual Coefficients: \n",
      "[[-3.21747533]\n",
      " [ 0.        ]\n",
      " [-3.26519926]\n",
      " [ 0.        ]\n",
      " [ 1.37553264]\n",
      " [-0.03833616]\n",
      " [ 0.        ]\n",
      " [-2.0055649 ]\n",
      " [ 0.        ]\n",
      " [ 3.01366916]\n",
      " [ 2.66588524]\n",
      " [ 2.3361583 ]\n",
      " [ 0.        ]\n",
      " [ 0.        ]\n",
      " [ 0.        ]\n",
      " [ 0.        ]]\n",
      "Estimated Intercept: \n",
      "[6.42431289e-17]\n",
      "Estimated Coefficients: \n",
      "[[-1.27425733e-02 -5.97751745e-01  1.49047600e-03  2.25873114e-01\n",
      "  -1.23712085e-02 -5.82427479e-03 -3.67146299e-01  5.70314152e-04\n",
      "   4.68363900e-01  4.53725264e-01  3.78986376e-01 -2.82841677e-03\n",
      "  -1.64020631e-02  2.60845216e-03  4.54631503e-03]]\n"
     ]
    }
   ],
   "source": [
    "syn_ols = LinearRegression()\n",
    "syn_ols.fit(syn_train_scaled_x, syn_train_scaled_y)\n",
    "syn_ols_test_pred = syn_ols.predict(syn_test_scaled_x)\n",
    "syn_ols_mse = mse(syn_test_scaled_y, syn_ols_test_pred)\n",
    "syn_ols_r2_score = syn_ols.score(syn_test_scaled_x, syn_test_scaled_y)\n",
    "print(f\"MSE : {syn_ols_mse} \\nR2 Score : {syn_ols_r2_score}\")\n",
    "print(f\"Actual Coefficients: \\n{np.array(syn_true_beta)}\")\n",
    "print(f\"Estimated Intercept: \\n{syn_ols.intercept_}\")\n",
    "print(f\"Estimated Coefficients: \\n{syn_ols.coef_}\")"
   ]
  },
  {
   "cell_type": "code",
   "execution_count": 6,
   "id": "c0f44e21-7f24-4c46-a611-c7c23a0d0a42",
   "metadata": {},
   "outputs": [
    {
     "data": {
      "image/png": "[encoded data removed]",
      "text/plain": [
       "<Figure size 640x480 with 2 Axes>"
      ]
     },
     "metadata": {},
     "output_type": "display_data"
    }
   ],
   "source": [
    "fig, ax = plt.subplots(1, 2)\n",
    "\n",
    "ax[0].plot(syn_test_scaled_y, color = \"blue\")\n",
    "ax[1].plot(syn_ols_test_pred, color = \"red\")\n",
    "\n",
    "plt.show()"
   ]
  },
  {
   "cell_type": "markdown",
   "id": "a8d27037-f5e8-44e5-8495-c5391910301b",
   "metadata": {},
   "source": [
    "### Concrete Compression Strength data"
   ]
  },
  {
   "cell_type": "code",
   "execution_count": 7,
   "id": "36b4892d-5918-4604-ae4f-aa817ca28343",
   "metadata": {},
   "outputs": [
    {
     "name": "stdout",
     "output_type": "stream",
     "text": [
      "MSE : 0.4444234800359259 \n",
      "R2 Score : 0.5732161868625566\n",
      "Estimated Intercept: \n",
      "[2.27395861e-16]\n",
      "Estimated Coefficients: \n",
      "[[ 0.72887201  0.5038337   0.31776511 -0.19967827  0.11567052  0.08493404\n",
      "   0.06673234  0.44385624]]\n"
     ]
    }
   ],
   "source": [
    "ccs_ols = LinearRegression()\n",
    "ccs_ols.fit(ccs_train_scaled_x, ccs_train_scaled_y)\n",
    "ccs_ols_test_pred = ccs_ols.predict(ccs_test_scaled_x)\n",
    "ccs_ols_mse = mse(ccs_test_scaled_y, ccs_ols_test_pred)\n",
    "ccs_ols_r2_score = ccs_ols.score(ccs_test_scaled_x, ccs_test_scaled_y)\n",
    "print(f\"MSE : {ccs_ols_mse} \\nR2 Score : {ccs_ols_r2_score}\")\n",
    "print(f\"Estimated Intercept: \\n{ccs_ols.intercept_}\")\n",
    "print(f\"Estimated Coefficients: \\n{ccs_ols.coef_}\")"
   ]
  },
  {
   "cell_type": "markdown",
   "id": "fea5cce8-3f51-47bd-86b3-110df682945f",
   "metadata": {},
   "source": [
    "# Ridge Regression Experimentation"
   ]
  },
  {
   "cell_type": "markdown",
   "id": "b7652318-0e7b-45aa-afd2-54c4b402544e",
   "metadata": {},
   "source": [
    "### Synthetic data"
   ]
  },
  {
   "cell_type": "code",
   "execution_count": 8,
   "id": "90acea15-8d80-490d-93bc-9096f5f7e11e",
   "metadata": {},
   "outputs": [
    {
     "name": "stdout",
     "output_type": "stream",
     "text": [
      "MSE : 0.0019480844470239824 \n",
      "R2 Score : 0.9978204914615443\n",
      "Actual Coefficients: \n",
      "[[-3.21747533]\n",
      " [ 0.        ]\n",
      " [-3.26519926]\n",
      " [ 0.        ]\n",
      " [ 1.37553264]\n",
      " [-0.03833616]\n",
      " [ 0.        ]\n",
      " [-2.0055649 ]\n",
      " [ 0.        ]\n",
      " [ 3.01366916]\n",
      " [ 2.66588524]\n",
      " [ 2.3361583 ]\n",
      " [ 0.        ]\n",
      " [ 0.        ]\n",
      " [ 0.        ]\n",
      " [ 0.        ]]\n",
      "Estimated Intercept: \n",
      "[6.42185766e-17]\n",
      "Estimated Coefficients: \n",
      "[-1.26891265e-02 -5.97625381e-01  1.55518920e-03  2.25618563e-01\n",
      " -1.23849491e-02 -5.73434115e-03 -3.67033894e-01  5.65432805e-04\n",
      "  4.68252311e-01  4.53666036e-01  3.78895495e-01 -2.79153066e-03\n",
      " -1.64654397e-02  2.68136090e-03  4.60316376e-03]\n"
     ]
    }
   ],
   "source": [
    "syn_ridge = Ridge(alpha = 0.01)\n",
    "syn_ridge.fit(syn_train_scaled_x, syn_train_scaled_y)\n",
    "syn_ridge_test_pred = syn_ridge.predict(syn_test_scaled_x)\n",
    "syn_ridge_mse = mse(syn_test_scaled_y, syn_ridge_test_pred)\n",
    "syn_ridge_r2_score = syn_ridge.score(syn_test_scaled_x, syn_test_scaled_y)\n",
    "print(f\"MSE : {syn_ridge_mse} \\nR2 Score : {syn_ridge_r2_score}\")\n",
    "print(f\"Actual Coefficients: \\n{np.array(syn_true_beta)}\")\n",
    "print(f\"Estimated Intercept: \\n{syn_ridge.intercept_}\")\n",
    "print(f\"Estimated Coefficients: \\n{syn_ridge.coef_}\")"
   ]
  },
  {
   "cell_type": "markdown",
   "id": "8015385f-5ce8-4a56-94d0-601fe6446b13",
   "metadata": {},
   "source": [
    "### Concrete Compressive Strength Data"
   ]
  },
  {
   "cell_type": "code",
   "execution_count": 9,
   "id": "0d205e99-7fa9-4e8a-a7b8-9b18014988e5",
   "metadata": {},
   "outputs": [
    {
     "name": "stdout",
     "output_type": "stream",
     "text": [
      "MSE : 0.44442573529864327 \n",
      "R2 Score : 0.5732140211137486\n",
      "Estimated Intercept: \n",
      "[2.27462741e-16]\n",
      "Estimated Coefficients: \n",
      "[ 0.72873647  0.50370319  0.31764889 -0.19977065  0.11566863  0.0848393\n",
      "  0.06661372  0.4438441 ]\n"
     ]
    }
   ],
   "source": [
    "ccs_ridge = Ridge(alpha = 0.01)\n",
    "ccs_ridge.fit(ccs_train_scaled_x, ccs_train_scaled_y)\n",
    "ccs_ridge_test_pred = ccs_ridge.predict(ccs_test_scaled_x)\n",
    "ccs_ridge_mse = mse(ccs_test_scaled_y, ccs_ridge_test_pred)\n",
    "ccs_ridge_r2_score = ccs_ridge.score(ccs_test_scaled_x, ccs_test_scaled_y)\n",
    "print(f\"MSE : {ccs_ridge_mse} \\nR2 Score : {ccs_ridge_r2_score}\")\n",
    "print(f\"Estimated Intercept: \\n{ccs_ridge.intercept_}\")\n",
    "print(f\"Estimated Coefficients: \\n{ccs_ridge.coef_}\")"
   ]
  },
  {
   "cell_type": "markdown",
   "id": "4180ccf7-4256-432a-9d9b-5c47fb7606ea",
   "metadata": {},
   "source": [
    "# Lasso Regression Experimentation"
   ]
  },
  {
   "cell_type": "markdown",
   "id": "9eb7f796-00d6-4c45-a03d-82ea2182aa48",
   "metadata": {},
   "source": [
    "### Synthetic data"
   ]
  },
  {
   "cell_type": "code",
   "execution_count": 10,
   "id": "3a160195-a501-4241-b511-295f83a41f67",
   "metadata": {},
   "outputs": [
    {
     "name": "stdout",
     "output_type": "stream",
     "text": [
      "MSE : 0.004034555718858743 \n",
      "R2 Score : 0.9954861563360041\n",
      "Actual Coefficients: \n",
      "[[-3.21747533]\n",
      " [ 0.        ]\n",
      " [-3.26519926]\n",
      " [ 0.        ]\n",
      " [ 1.37553264]\n",
      " [-0.03833616]\n",
      " [ 0.        ]\n",
      " [-2.0055649 ]\n",
      " [ 0.        ]\n",
      " [ 3.01366916]\n",
      " [ 2.66588524]\n",
      " [ 2.3361583 ]\n",
      " [ 0.        ]\n",
      " [ 0.        ]\n",
      " [ 0.        ]\n",
      " [ 0.        ]]\n",
      "Estimated Intercept: \n",
      "[6.3138487e-17]\n",
      "Estimated Coefficients: \n",
      "[ 0.         -0.58365055  0.          0.21107639 -0.00202828  0.\n",
      " -0.35331373 -0.          0.45264696  0.4468358   0.36351117  0.\n",
      " -0.01145968  0.00178369  0.00181749]\n"
     ]
    }
   ],
   "source": [
    "syn_lasso = Lasso(alpha = 0.01)\n",
    "syn_lasso.fit(syn_train_scaled_x, syn_train_scaled_y)\n",
    "syn_lasso_test_pred = syn_lasso.predict(syn_test_scaled_x)\n",
    "syn_lasso_mse = mse(syn_test_scaled_y, syn_lasso_test_pred)\n",
    "syn_lasso_r2_score = syn_lasso.score(syn_test_scaled_x, syn_test_scaled_y)\n",
    "print(f\"MSE : {syn_lasso_mse} \\nR2 Score : {syn_lasso_r2_score}\")\n",
    "print(f\"Actual Coefficients: \\n{np.array(syn_true_beta)}\")\n",
    "print(f\"Estimated Intercept: \\n{syn_lasso.intercept_}\")\n",
    "print(f\"Estimated Coefficients: \\n{syn_lasso.coef_}\")"
   ]
  },
  {
   "cell_type": "markdown",
   "id": "0868bf91-0dd0-40cf-a45f-21baef8c5962",
   "metadata": {},
   "source": [
    "### Concrete Compression Strength data"
   ]
  },
  {
   "cell_type": "code",
   "execution_count": 11,
   "id": "117a6ea6-64f6-4390-92e3-793ef4cde883",
   "metadata": {},
   "outputs": [
    {
     "name": "stdout",
     "output_type": "stream",
     "text": [
      "MSE : 0.4461974040383291 \n",
      "R2 Score : 0.5715126718954795\n",
      "Estimated Intercept: \n",
      "[2.75589147e-16]\n",
      "Estimated Coefficients: \n",
      "[ 0.60727329  0.38277518  0.20760533 -0.26725136  0.11259232  0.\n",
      " -0.02387945  0.42496707]\n"
     ]
    }
   ],
   "source": [
    "ccs_lasso = Lasso(alpha = 0.01)\n",
    "ccs_lasso.fit(ccs_train_scaled_x, ccs_train_scaled_y)\n",
    "ccs_lasso_test_pred = ccs_lasso.predict(ccs_test_scaled_x)\n",
    "ccs_lasso_mse = mse(ccs_test_scaled_y, ccs_lasso_test_pred)\n",
    "ccs_lasso_r2_score = ccs_lasso.score(ccs_test_scaled_x, ccs_test_scaled_y)\n",
    "print(f\"MSE : {ccs_lasso_mse} \\nR2 Score : {ccs_lasso_r2_score}\")\n",
    "print(f\"Estimated Intercept: \\n{ccs_lasso.intercept_}\")\n",
    "print(f\"Estimated Coefficients: \\n{ccs_lasso.coef_}\")"
   ]
  },
  {
   "cell_type": "markdown",
   "id": "dd6cbe39-3243-458d-a636-73df58f5c2c8",
   "metadata": {},
   "source": [
    "# SGDRegressor Experimentation"
   ]
  },
  {
   "cell_type": "markdown",
   "id": "53437aed-7de6-4ce2-94bb-2aada9a0e5d5",
   "metadata": {},
   "source": [
    "## Linear Regression  => penalty = None"
   ]
  },
  {
   "cell_type": "markdown",
   "id": "3a533423-73d0-4018-a637-2e5041458ba4",
   "metadata": {},
   "source": [
    "### Synthetic data"
   ]
  },
  {
   "cell_type": "code",
   "execution_count": 12,
   "id": "87819cdd-1da7-42ac-a1d9-d247bb99bd60",
   "metadata": {},
   "outputs": [
    {
     "name": "stdout",
     "output_type": "stream",
     "text": [
      "MSE : 0.035471003728319295 \n",
      "R2 Score : 0.9603151929006108\n",
      "Actual Coefficients: \n",
      "[[-3.21747533]\n",
      " [ 0.        ]\n",
      " [-3.26519926]\n",
      " [ 0.        ]\n",
      " [ 1.37553264]\n",
      " [-0.03833616]\n",
      " [ 0.        ]\n",
      " [-2.0055649 ]\n",
      " [ 0.        ]\n",
      " [ 3.01366916]\n",
      " [ 2.66588524]\n",
      " [ 2.3361583 ]\n",
      " [ 0.        ]\n",
      " [ 0.        ]\n",
      " [ 0.        ]\n",
      " [ 0.        ]]\n",
      "Estimated Intercept: \n",
      "[-0.00019542]\n",
      "Estimated Coefficients: \n",
      "[ 1.61823367e-02 -5.33235159e-01  3.75099994e-02  5.33634225e-02\n",
      " -2.24560507e-02  6.16781342e-02 -2.96268572e-01  6.80436459e-05\n",
      "  4.10326507e-01  4.31282304e-01  3.33723332e-01  1.49683662e-02\n",
      " -6.11914734e-02  6.79572701e-02  4.91239242e-02]\n"
     ]
    }
   ],
   "source": [
    "syn_sgd_lr = SGDRegressor(penalty = None)\n",
    "syn_sgd_lr.fit(syn_train_scaled_x, syn_train_scaled_y.ravel())\n",
    "syn_sgd_lr_test_pred = syn_sgd_lr.predict(syn_test_scaled_x)\n",
    "syn_sgd_lr_mse = mse(syn_test_scaled_y, syn_sgd_lr_test_pred)\n",
    "syn_sgd_lr_r2_score = syn_sgd_lr.score(syn_test_scaled_x, syn_test_scaled_y)\n",
    "print(f\"MSE : {syn_sgd_lr_mse} \\nR2 Score : {syn_sgd_lr_r2_score}\")\n",
    "print(f\"Actual Coefficients: \\n{np.array(syn_true_beta)}\")\n",
    "print(f\"Estimated Intercept: \\n{syn_sgd_lr.intercept_}\")\n",
    "print(f\"Estimated Coefficients: \\n{syn_sgd_lr.coef_}\")"
   ]
  },
  {
   "cell_type": "markdown",
   "id": "47dccc47-62cb-470f-ac97-b87d15cfb8af",
   "metadata": {},
   "source": [
    "### Concrete Compressive Strength"
   ]
  },
  {
   "cell_type": "code",
   "execution_count": 13,
   "id": "a23af6b3-0f05-48d2-a963-f603e454fd4c",
   "metadata": {},
   "outputs": [
    {
     "name": "stdout",
     "output_type": "stream",
     "text": [
      "MSE : 0.46109933680324483 \n",
      "R2 Score : 0.557202213573128\n",
      "Estimated Coefficients: \n",
      "[ 0.5087649   0.2749215   0.12509736 -0.36337012  0.12290961 -0.07000841\n",
      " -0.1359775   0.43040688]\n"
     ]
    }
   ],
   "source": [
    "ccs_sgd_lr = SGDRegressor(penalty = None)\n",
    "ccs_sgd_lr.fit(ccs_train_scaled_x, ccs_train_scaled_y.ravel())\n",
    "ccs_sgd_lr_test_pred = ccs_sgd_lr.predict(ccs_test_scaled_x)\n",
    "ccs_sgd_lr_mse = mse(ccs_test_scaled_y, ccs_sgd_lr_test_pred)\n",
    "ccs_sgd_lr_r2_score = ccs_sgd_lr.score(ccs_test_scaled_x, ccs_test_scaled_y)\n",
    "print(f\"MSE : {ccs_sgd_lr_mse} \\nR2 Score : {ccs_sgd_lr_r2_score}\")\n",
    "print(f\"Estimated Coefficients: \\n{ccs_sgd_lr.coef_}\")"
   ]
  },
  {
   "cell_type": "markdown",
   "id": "99903a96-45f5-48c8-95fb-f15117914184",
   "metadata": {},
   "source": [
    "## Ridge Regression => penalty = \"l2\" "
   ]
  },
  {
   "cell_type": "markdown",
   "id": "9c0d8839-be73-488e-8fdd-51865d7923de",
   "metadata": {},
   "source": [
    "### Synthetic data"
   ]
  },
  {
   "cell_type": "code",
   "execution_count": 14,
   "id": "9bf32241-f75a-4a78-b22c-0a7c4f853410",
   "metadata": {},
   "outputs": [
    {
     "name": "stdout",
     "output_type": "stream",
     "text": [
      "MSE : 0.037571630300052554 \n",
      "R2 Score : 0.9579650208861513\n",
      "Actual Coefficients: \n",
      "[[-3.21747533]\n",
      " [ 0.        ]\n",
      " [-3.26519926]\n",
      " [ 0.        ]\n",
      " [ 1.37553264]\n",
      " [-0.03833616]\n",
      " [ 0.        ]\n",
      " [-2.0055649 ]\n",
      " [ 0.        ]\n",
      " [ 3.01366916]\n",
      " [ 2.66588524]\n",
      " [ 2.3361583 ]\n",
      " [ 0.        ]\n",
      " [ 0.        ]\n",
      " [ 0.        ]\n",
      " [ 0.        ]]\n",
      "Estimated Intercept: \n",
      "[-0.00037639]\n",
      "Estimated Coefficients: \n",
      "[ 1.70030699e-02 -5.29721781e-01  3.95596911e-02  5.08828429e-02\n",
      " -2.29336577e-02  6.13965873e-02 -2.93830782e-01 -2.13232317e-05\n",
      "  4.07071025e-01  4.27539154e-01  3.30800292e-01  1.56821109e-02\n",
      " -6.22039688e-02  6.89944883e-02  4.88626190e-02]\n"
     ]
    }
   ],
   "source": [
    "syn_sgd_ridge = SGDRegressor(alpha = 0.01)\n",
    "syn_sgd_ridge.fit(syn_train_scaled_x, syn_train_scaled_y.ravel())\n",
    "syn_sgd_ridge_test_pred = syn_sgd_ridge.predict(syn_test_scaled_x)\n",
    "syn_sgd_ridge_mse = mse(syn_test_scaled_y, syn_sgd_ridge_test_pred)\n",
    "syn_sgd_ridge_r2_score = syn_sgd_ridge.score(syn_test_scaled_x, syn_test_scaled_y)\n",
    "print(f\"MSE : {syn_sgd_ridge_mse} \\nR2 Score : {syn_sgd_ridge_r2_score}\")\n",
    "print(f\"Actual Coefficients: \\n{np.array(syn_true_beta)}\")\n",
    "print(f\"Estimated Intercept: \\n{syn_sgd_ridge.intercept_}\")\n",
    "print(f\"Estimated Coefficients: \\n{syn_sgd_ridge.coef_}\")"
   ]
  },
  {
   "cell_type": "markdown",
   "id": "45c0d37a-ad1d-4e8d-a956-6602e953a62f",
   "metadata": {},
   "source": [
    "### Concrete Compressive Strength"
   ]
  },
  {
   "cell_type": "code",
   "execution_count": 15,
   "id": "e5eca8de-e909-4980-8529-6ca6756ac9c9",
   "metadata": {},
   "outputs": [
    {
     "name": "stdout",
     "output_type": "stream",
     "text": [
      "MSE : 0.45794819169068257 \n",
      "R2 Score : 0.5602282861982288\n",
      "Estimated Coefficients: \n",
      "[ 0.49655296  0.27834829  0.11023019 -0.35702928  0.13309942 -0.08012781\n",
      " -0.1385635   0.42616196]\n"
     ]
    }
   ],
   "source": [
    "ccs_sgd_ridge =  SGDRegressor(alpha = 0.01)\n",
    "ccs_sgd_ridge.fit(ccs_train_scaled_x, ccs_train_scaled_y.reshape(-1, ))\n",
    "ccs_sgd_ridge_test_pred = ccs_sgd_ridge.predict(ccs_test_scaled_x)\n",
    "ccs_sgd_ridge_mse = mse(ccs_test_scaled_y, ccs_sgd_ridge_test_pred)\n",
    "ccs_sgd_ridge_r2_score = ccs_sgd_ridge.score(ccs_test_scaled_x, ccs_test_scaled_y)\n",
    "print(f\"MSE : {ccs_sgd_ridge_mse} \\nR2 Score : {ccs_sgd_ridge_r2_score}\")\n",
    "print(f\"Estimated Coefficients: \\n{ccs_sgd_ridge.coef_}\")"
   ]
  },
  {
   "cell_type": "markdown",
   "id": "2d71950f-147c-4423-ac06-ee69da22f34c",
   "metadata": {},
   "source": [
    "## Lasso Regression => penalty = \"l1\""
   ]
  },
  {
   "cell_type": "markdown",
   "id": "be4067a3-0b30-42f4-bc93-112f9a2be3c6",
   "metadata": {},
   "source": [
    "### Synthetic data"
   ]
  },
  {
   "cell_type": "code",
   "execution_count": 16,
   "id": "23f6547c-10d6-4d3b-823c-b9bb90cf5d41",
   "metadata": {},
   "outputs": [
    {
     "name": "stdout",
     "output_type": "stream",
     "text": [
      "MSE : 0.037306444405112646 \n",
      "R2 Score : 0.9582617097299961\n",
      "Actual Coefficients: \n",
      "[[-3.21747533]\n",
      " [ 0.        ]\n",
      " [-3.26519926]\n",
      " [ 0.        ]\n",
      " [ 1.37553264]\n",
      " [-0.03833616]\n",
      " [ 0.        ]\n",
      " [-2.0055649 ]\n",
      " [ 0.        ]\n",
      " [ 3.01366916]\n",
      " [ 2.66588524]\n",
      " [ 2.3361583 ]\n",
      " [ 0.        ]\n",
      " [ 0.        ]\n",
      " [ 0.        ]\n",
      " [ 0.        ]]\n",
      "Estimated Coefficients: \n",
      "[ 0.01531417 -0.52806504  0.03467248  0.05675012 -0.00904346  0.05699509\n",
      " -0.28813766  0.          0.40098801  0.42488905  0.32347313  0.00877008\n",
      " -0.05560679  0.06362965  0.04615867]\n"
     ]
    }
   ],
   "source": [
    "syn_sgd_lasso = SGDRegressor(penalty = \"l1\", alpha = 0.01, l1_ratio = 0.01)\n",
    "syn_sgd_lasso.fit(syn_train_scaled_x, syn_train_scaled_y.reshape(-1, ))\n",
    "syn_sgd_lasso_test_pred = syn_sgd_lasso.predict(syn_test_scaled_x)\n",
    "syn_sgd_lasso_mse = mse(syn_test_scaled_y, syn_sgd_lasso_test_pred)\n",
    "syn_sgd_lasso_r2_score = syn_sgd_lasso.score(syn_test_scaled_x, syn_test_scaled_y)\n",
    "print(f\"MSE : {syn_sgd_lasso_mse} \\nR2 Score : {syn_sgd_lasso_r2_score}\")\n",
    "print(f\"Actual Coefficients: \\n{np.array(syn_true_beta)}\")\n",
    "print(f\"Estimated Coefficients: \\n{syn_sgd_lasso.coef_}\")"
   ]
  },
  {
   "cell_type": "markdown",
   "id": "448bb15b-7972-4e42-b7f1-81f859c52f3d",
   "metadata": {},
   "source": [
    "### Concrete Compressive Strength"
   ]
  },
  {
   "cell_type": "code",
   "execution_count": 17,
   "id": "91d07ee7-4270-4d7d-a737-1a6ade0cbf91",
   "metadata": {},
   "outputs": [
    {
     "name": "stdout",
     "output_type": "stream",
     "text": [
      "MSE : 0.4549702221844168 \n",
      "R2 Score : 0.5630880567512797\n",
      "Estimated Coefficients: \n",
      "[ 0.48480958  0.2681286   0.08967633 -0.3306256   0.14188673 -0.06618493\n",
      " -0.12622938  0.40554984]\n"
     ]
    }
   ],
   "source": [
    "ccs_sgd_lasso =  SGDRegressor(penalty = \"l1\", alpha = 0.01, l1_ratio = 0.01)\n",
    "ccs_sgd_lasso.fit(ccs_train_scaled_x, ccs_train_scaled_y.reshape(-1, ))\n",
    "ccs_sgd_lasso_test_pred = ccs_sgd_lasso.predict(ccs_test_scaled_x)\n",
    "ccs_sgd_lasso_mse = mse(ccs_test_scaled_y, ccs_sgd_lasso_test_pred)\n",
    "ccs_sgd_lasso_r2_score = ccs_sgd_lasso.score(ccs_test_scaled_x, ccs_test_scaled_y)\n",
    "print(f\"MSE : {ccs_sgd_lasso_mse} \\nR2 Score : {ccs_sgd_lasso_r2_score}\")\n",
    "print(f\"Estimated Coefficients: \\n{ccs_sgd_lasso.coef_}\")"
   ]
  },
  {
   "cell_type": "markdown",
   "id": "33ee7a84-a6c6-4f9a-9a6e-1c117158d506",
   "metadata": {},
   "source": [
    "# Custom Linear Regression Implementations"
   ]
  },
  {
   "cell_type": "code",
   "execution_count": 18,
   "id": "ea888224-9f01-4a59-9f47-a0b52f39ec2f",
   "metadata": {},
   "outputs": [],
   "source": [
    "# This allows .py files defined in src to be used in notebooks\n",
    "import os\n",
    "import sys\n",
    "\n",
    "src_path = os.path.abspath(os.path.join('..', 'src'))\n",
    "\n",
    "if src_path not in sys.path:\n",
    "    sys.path.append(src_path)\n",
    "\n",
    "from models import OLS, OLS_GD, Ridge, Ridge_GD, Lasso_CD\n",
    "    "
   ]
  },
  {
   "cell_type": "markdown",
   "id": "e4b1dde3-e486-41a4-b825-bcec390c3cb7",
   "metadata": {},
   "source": [
    "## Linear Regression -> Closed form"
   ]
  },
  {
   "cell_type": "markdown",
   "id": "4bb045b4-75bd-4189-9270-042fab04b89f",
   "metadata": {},
   "source": [
    "### Synthetic Data"
   ]
  },
  {
   "cell_type": "code",
   "execution_count": 19,
   "id": "4e34b508-eedd-4586-86b1-e3408bb57c40",
   "metadata": {},
   "outputs": [],
   "source": [
    "from sklearn.metrics import mean_squared_error as mse, r2_score"
   ]
  },
  {
   "cell_type": "code",
   "execution_count": 20,
   "id": "824d1286-2185-490e-ac98-1750f7b64de0",
   "metadata": {},
   "outputs": [
    {
     "name": "stdout",
     "output_type": "stream",
     "text": [
      "Final Train Loss: 0.0009\n",
      "MSE : 0.0019372109275486425 \n",
      "R2 Score : 0.9978326567085775\n",
      "Actual Coefficients: \n",
      "[[-3.21747533]\n",
      " [ 0.        ]\n",
      " [-3.26519926]\n",
      " [ 0.        ]\n",
      " [ 1.37553264]\n",
      " [-0.03833616]\n",
      " [ 0.        ]\n",
      " [-2.0055649 ]\n",
      " [ 0.        ]\n",
      " [ 3.01366916]\n",
      " [ 2.66588524]\n",
      " [ 2.3361583 ]\n",
      " [ 0.        ]\n",
      " [ 0.        ]\n",
      " [ 0.        ]\n",
      " [ 0.        ]]\n",
      "Estimated Coefficients: \n",
      "[-1.27425733e-02 -5.97751745e-01  1.49047600e-03  2.25873114e-01\n",
      " -1.23712085e-02 -5.82427479e-03 -3.67146299e-01  5.70314152e-04\n",
      "  4.68363900e-01  4.53725264e-01  3.78986376e-01 -2.82841677e-03\n",
      " -1.64020631e-02  2.60845216e-03  4.54631503e-03]\n",
      "Estimated Intercept: \n",
      "9.040730017461695e-17\n"
     ]
    }
   ],
   "source": [
    "syn_ols_custom = OLS()\n",
    "syn_ols_custom.fit(syn_train_scaled_x, syn_train_scaled_y.reshape(-1, ))\n",
    "syn_ols_custom_test_pred = syn_ols_custom.predict(syn_test_scaled_x)\n",
    "syn_ols_custom_mse = mse(syn_test_scaled_y, syn_ols_custom_test_pred)\n",
    "syn_ols_custom_r2_score = r2_score(syn_test_scaled_y, syn_ols_custom_test_pred)\n",
    "print(f\"MSE : {syn_ols_custom_mse} \\nR2 Score : {syn_ols_custom_r2_score}\")\n",
    "print(f\"Actual Coefficients: \\n{np.array(syn_true_beta)}\")\n",
    "print(f\"Estimated Coefficients: \\n{syn_ols_custom.coefficients}\")\n",
    "print(f\"Estimated Intercept: \\n{syn_ols_custom.intercept}\")"
   ]
  },
  {
   "cell_type": "markdown",
   "id": "c11819f0-fffa-461a-98e0-d36b824328e9",
   "metadata": {},
   "source": [
    "### Concrete Compression Strength Data"
   ]
  },
  {
   "cell_type": "code",
   "execution_count": 21,
   "id": "bc7ef0d7-a842-44b5-8bed-e00c4b96306b",
   "metadata": {},
   "outputs": [
    {
     "name": "stdout",
     "output_type": "stream",
     "text": [
      "Final Train Loss: 0.3760\n",
      "MSE : 0.444423480035926 \n",
      "R2 Score : 0.5732161868625565\n",
      "Estimated Coefficients: \n",
      "[ 0.72887201  0.5038337   0.31776511 -0.19967827  0.11567052  0.08493404\n",
      "  0.06673234  0.44385624]\n",
      "Estimated Intercept: \n",
      "2.484598912291135e-16\n"
     ]
    }
   ],
   "source": [
    "ccs_ols_custom = OLS()\n",
    "ccs_ols_custom.fit(ccs_train_scaled_x, ccs_train_scaled_y.reshape(-1, ))\n",
    "ccs_ols_custom_test_pred = ccs_ols_custom.predict(ccs_test_scaled_x)\n",
    "ccs_ols_custom_mse = mse(ccs_test_scaled_y, ccs_ols_custom_test_pred)\n",
    "ccs_ols_custom_r2_score = r2_score(ccs_test_scaled_y, ccs_ols_custom_test_pred)\n",
    "print(f\"MSE : {ccs_ols_custom_mse} \\nR2 Score : {ccs_ols_custom_r2_score}\")\n",
    "print(f\"Estimated Coefficients: \\n{ccs_ols_custom.coefficients}\")\n",
    "print(f\"Estimated Intercept: \\n{ccs_ols_custom.intercept}\")"
   ]
  },
  {
   "cell_type": "markdown",
   "id": "7935f4ae-7f13-4f9e-81f5-5c0caab7ed59",
   "metadata": {},
   "source": [
    "## Linear Regression -> Gradient Descent"
   ]
  },
  {
   "cell_type": "markdown",
   "id": "31c0281d-042b-4ed4-8771-4da16ceea5d8",
   "metadata": {},
   "source": [
    "### Synthetic Data"
   ]
  },
  {
   "cell_type": "code",
   "execution_count": 22,
   "id": "41067f37-7c0c-4b7d-94fe-c65e068b25e0",
   "metadata": {},
   "outputs": [
    {
     "name": "stdout",
     "output_type": "stream",
     "text": [
      "Final train loss = 0.0009\n",
      "MSE : 0.0019372109275554172 \n",
      "R2 Score : 0.9978326567085699\n",
      "Actual Coefficients: \n",
      "[[-3.21747533]\n",
      " [ 0.        ]\n",
      " [-3.26519926]\n",
      " [ 0.        ]\n",
      " [ 1.37553264]\n",
      " [-0.03833616]\n",
      " [ 0.        ]\n",
      " [-2.0055649 ]\n",
      " [ 0.        ]\n",
      " [ 3.01366916]\n",
      " [ 2.66588524]\n",
      " [ 2.3361583 ]\n",
      " [ 0.        ]\n",
      " [ 0.        ]\n",
      " [ 0.        ]\n",
      " [ 0.        ]]\n",
      "Estimated Coefficients: \n",
      "[-1.27425733e-02 -5.97751745e-01  1.49047600e-03  2.25873114e-01\n",
      " -1.23712085e-02 -5.82427479e-03 -3.67146299e-01  5.70314152e-04\n",
      "  4.68363900e-01  4.53725264e-01  3.78986376e-01 -2.82841677e-03\n",
      " -1.64020631e-02  2.60845216e-03  4.54631503e-03]\n",
      "Estimated Intercept: \n",
      "5.115352585960411e-17\n"
     ]
    }
   ],
   "source": [
    "syn_ols_gd_custom = OLS_GD()\n",
    "syn_ols_gd_custom.fit(syn_train_scaled_x, syn_train_scaled_y.reshape(-1, ), 10000, 0.01)\n",
    "syn_ols_gd_custom_test_pred = syn_ols_gd_custom.predict(syn_test_scaled_x)\n",
    "syn_ols_gd_custom_mse = mse(syn_test_scaled_y, syn_ols_gd_custom_test_pred)\n",
    "syn_ols_gd_custom_r2_score = r2_score(syn_test_scaled_y, syn_ols_gd_custom_test_pred)\n",
    "print(f\"MSE : {syn_ols_gd_custom_mse} \\nR2 Score : {syn_ols_gd_custom_r2_score}\")\n",
    "print(f\"Actual Coefficients: \\n{np.array(syn_true_beta)}\")\n",
    "print(f\"Estimated Coefficients: \\n{syn_ols_gd_custom.coefficients}\")\n",
    "print(f\"Estimated Intercept: \\n{syn_ols_gd_custom.intercept}\")"
   ]
  },
  {
   "cell_type": "markdown",
   "id": "b2eaf9ea-3614-4e24-b632-e34a31f78fc6",
   "metadata": {},
   "source": [
    "### Concrete Compression Strength Data"
   ]
  },
  {
   "cell_type": "code",
   "execution_count": 23,
   "id": "75616f2a-cca8-44d3-9fe2-85ad15e5bce7",
   "metadata": {},
   "outputs": [
    {
     "name": "stdout",
     "output_type": "stream",
     "text": [
      "Final train loss = 0.3800\n",
      "MSE : 0.4548013923152599 \n",
      "R2 Score : 0.5632501855733762\n",
      "Estimated Coefficients: \n",
      "[ 0.55925745  0.33982546  0.17283808 -0.33983302  0.10066343 -0.0459934\n",
      " -0.09451954  0.43740919]\n",
      "Estimated Intercept: \n",
      "3.245745096639888e-16\n"
     ]
    }
   ],
   "source": [
    "ccs_ols_gd_custom = OLS_GD()\n",
    "ccs_ols_gd_custom.fit(ccs_train_scaled_x, ccs_train_scaled_y.reshape(-1, ), lr = 0.01)\n",
    "ccs_ols_gd_custom_test_pred = ccs_ols_gd_custom.predict(ccs_test_scaled_x)\n",
    "ccs_ols_gd_custom_mse = mse(ccs_test_scaled_y, ccs_ols_gd_custom_test_pred)\n",
    "ccs_ols_gd_custom_r2_score = r2_score(ccs_test_scaled_y, ccs_ols_gd_custom_test_pred)\n",
    "print(f\"MSE : {ccs_ols_gd_custom_mse} \\nR2 Score : {ccs_ols_gd_custom_r2_score}\")\n",
    "print(f\"Estimated Coefficients: \\n{ccs_ols_gd_custom.coefficients}\")\n",
    "print(f\"Estimated Intercept: \\n{ccs_ols_gd_custom.intercept}\")"
   ]
  },
  {
   "cell_type": "markdown",
   "id": "d16983d8-cfbc-4a13-85e4-35352d29d3af",
   "metadata": {},
   "source": [
    "## Ridge Regression -> Closed form"
   ]
  },
  {
   "cell_type": "markdown",
   "id": "933ea786-f8c0-45fc-8061-01ef10597665",
   "metadata": {},
   "source": [
    "### Synthetic Data"
   ]
  },
  {
   "cell_type": "code",
   "execution_count": 24,
   "id": "954099f4-7b0f-4cb8-92d2-9751a8de4c17",
   "metadata": {},
   "outputs": [
    {
     "name": "stdout",
     "output_type": "stream",
     "text": [
      "Final Train Loss: 0.0009\n",
      "MSE : 0.0019480844470239754 \n",
      "R2 Score : 0.9978204914615443\n",
      "Actual Coefficients: \n",
      "[[-3.21747533]\n",
      " [ 0.        ]\n",
      " [-3.26519926]\n",
      " [ 0.        ]\n",
      " [ 1.37553264]\n",
      " [-0.03833616]\n",
      " [ 0.        ]\n",
      " [-2.0055649 ]\n",
      " [ 0.        ]\n",
      " [ 3.01366916]\n",
      " [ 2.66588524]\n",
      " [ 2.3361583 ]\n",
      " [ 0.        ]\n",
      " [ 0.        ]\n",
      " [ 0.        ]\n",
      " [ 0.        ]]\n",
      "Estimated Coefficients: \n",
      "[-1.26891265e-02 -5.97625381e-01  1.55518920e-03  2.25618563e-01\n",
      " -1.23849491e-02 -5.73434115e-03 -3.67033894e-01  5.65432805e-04\n",
      "  4.68252311e-01  4.53666036e-01  3.78895495e-01 -2.79153066e-03\n",
      " -1.64654397e-02  2.68136090e-03  4.60316376e-03]\n",
      "Estimated Intercept: \n",
      "9.038054996216637e-17\n"
     ]
    }
   ],
   "source": [
    "syn_ridge_custom = Ridge()\n",
    "syn_ridge_custom.fit(syn_train_scaled_x, syn_train_scaled_y.reshape(-1, ))\n",
    "syn_ridge_custom_test_pred = syn_ridge_custom.predict(syn_test_scaled_x)\n",
    "syn_ridge_custom_mse = mse(syn_test_scaled_y, syn_ridge_custom_test_pred)\n",
    "syn_ridge_custom_r2_score = r2_score(syn_test_scaled_y, syn_ridge_custom_test_pred)\n",
    "print(f\"MSE : {syn_ridge_custom_mse} \\nR2 Score : {syn_ridge_custom_r2_score}\")\n",
    "print(f\"Actual Coefficients: \\n{np.array(syn_true_beta)}\")\n",
    "print(f\"Estimated Coefficients: \\n{syn_ridge_custom.coefficients}\")\n",
    "print(f\"Estimated Intercept: \\n{syn_ridge_custom.intercept}\")"
   ]
  },
  {
   "cell_type": "markdown",
   "id": "fd1c16e4-c41e-4423-8afb-f7bf9f97da29",
   "metadata": {},
   "source": [
    "### Concrete Compression Strength Data"
   ]
  },
  {
   "cell_type": "code",
   "execution_count": 26,
   "id": "6e5012ca-088b-457c-9053-62e2a5598c86",
   "metadata": {},
   "outputs": [
    {
     "name": "stdout",
     "output_type": "stream",
     "text": [
      "Final Train Loss: 0.3760\n",
      "MSE : 0.44442573529864343 \n",
      "R2 Score : 0.5732140211137484\n",
      "Estimated Coefficients: \n",
      "[ 0.72873647  0.50370319  0.31764889 -0.19977065  0.11566863  0.0848393\n",
      "  0.06661372  0.4438441 ]\n",
      "Estimated Intercept: \n",
      "2.4853192336701973e-16\n"
     ]
    }
   ],
   "source": [
    "ccs_ridge_custom = Ridge()\n",
    "ccs_ridge_custom.fit(ccs_train_scaled_x, ccs_train_scaled_y.reshape(-1, ))\n",
    "ccs_ridge_custom_test_pred = ccs_ridge_custom.predict(ccs_test_scaled_x)\n",
    "ccs_ridge_custom_mse = mse(ccs_test_scaled_y, ccs_ridge_custom_test_pred)\n",
    "ccs_ridge_custom_r2_score = r2_score(ccs_test_scaled_y, ccs_ridge_custom_test_pred)\n",
    "print(f\"MSE : {ccs_ridge_custom_mse} \\nR2 Score : {ccs_ridge_custom_r2_score}\")\n",
    "print(f\"Estimated Coefficients: \\n{ccs_ridge_custom.coefficients}\")\n",
    "print(f\"Estimated Intercept: \\n{ccs_ridge_custom.intercept}\")"
   ]
  },
  {
   "cell_type": "markdown",
   "id": "796ae8b3-3105-4148-b12e-77cd7fb0e80c",
   "metadata": {},
   "source": [
    "## Ridge Regression -> Gradient descent"
   ]
  },
  {
   "cell_type": "markdown",
   "id": "b308c9a4-c447-4ef3-b1b6-c7ed361b9165",
   "metadata": {},
   "source": [
    "### Synthetic Data"
   ]
  },
  {
   "cell_type": "code",
   "execution_count": 27,
   "id": "543bc13f-755d-47ae-8064-5b58a6f7e9b9",
   "metadata": {},
   "outputs": [
    {
     "name": "stdout",
     "output_type": "stream",
     "text": [
      "Final train loss = 0.0010\n",
      "MSE : 0.002411533772892586 \n",
      "R2 Score : 0.9973019863400567\n",
      "Actual Coefficients: \n",
      "[[-3.21747533]\n",
      " [ 0.        ]\n",
      " [-3.26519926]\n",
      " [ 0.        ]\n",
      " [ 1.37553264]\n",
      " [-0.03833616]\n",
      " [ 0.        ]\n",
      " [-2.0055649 ]\n",
      " [ 0.        ]\n",
      " [ 3.01366916]\n",
      " [ 2.66588524]\n",
      " [ 2.3361583 ]\n",
      " [ 0.        ]\n",
      " [ 0.        ]\n",
      " [ 0.        ]\n",
      " [ 0.        ]]\n",
      "Estimated Coefficients: \n",
      "[-8.42232765e-03 -5.94848467e-01  7.73771877e-03  2.05854858e-01\n",
      " -1.43157094e-02 -2.67046406e-04 -3.64979941e-01 -1.43166868e-04\n",
      "  4.66247561e-01  4.53813525e-01  3.76397332e-01  1.22062416e-03\n",
      " -2.18584834e-02  4.79244716e-03  7.34021291e-03]\n",
      "Estimated Intercept: \n",
      "5.2100684877487496e-17\n"
     ]
    }
   ],
   "source": [
    "syn_ridge_gd_custom = Ridge_GD()\n",
    "syn_ridge_gd_custom.fit(syn_train_scaled_x, syn_train_scaled_y.reshape(-1, ))\n",
    "syn_ridge_gd_custom_test_pred = syn_ridge_gd_custom.predict(syn_test_scaled_x)\n",
    "syn_ridge_gd_custom_mse = mse(syn_test_scaled_y, syn_ridge_gd_custom_test_pred)\n",
    "syn_ridge_gd_custom_r2_score = r2_score(syn_test_scaled_y, syn_ridge_gd_custom_test_pred)\n",
    "print(f\"MSE : {syn_ridge_gd_custom_mse} \\nR2 Score : {syn_ridge_gd_custom_r2_score}\")\n",
    "print(f\"Actual Coefficients: \\n{np.array(syn_true_beta)}\")\n",
    "print(f\"Estimated Coefficients: \\n{syn_ridge_gd_custom.coefficients}\")\n",
    "print(f\"Estimated Intercept: \\n{syn_ridge_gd_custom.intercept}\")"
   ]
  },
  {
   "cell_type": "markdown",
   "id": "0acbaed8-ae46-4553-a8bf-be24f605e66c",
   "metadata": {},
   "source": [
    "### Concrete Compression Strength Data"
   ]
  },
  {
   "cell_type": "code",
   "execution_count": 28,
   "id": "a190b6fc-d5d9-48a6-a9d0-7a682d9ac145",
   "metadata": {},
   "outputs": [
    {
     "name": "stdout",
     "output_type": "stream",
     "text": [
      "Final train loss = 0.3800\n",
      "MSE : 0.45480139231526 \n",
      "R2 Score : 0.5632501855733761\n",
      "Estimated Coefficients: \n",
      "[ 0.55925745  0.33982546  0.17283808 -0.33983302  0.10066343 -0.0459934\n",
      " -0.09451954  0.43740919]\n",
      "Estimated Intercept: \n",
      "3.23312035180889e-16\n"
     ]
    }
   ],
   "source": [
    "ccs_ridge_gd_custom = Ridge_GD()\n",
    "ccs_ridge_gd_custom.fit(ccs_train_scaled_x, ccs_train_scaled_y.reshape(-1, ), lr = 0.01)\n",
    "ccs_ridge_gd_custom_test_pred = ccs_ridge_gd_custom.predict(ccs_test_scaled_x)\n",
    "ccs_ridge_gd_custom_mse = mse(ccs_test_scaled_y, ccs_ridge_gd_custom_test_pred)\n",
    "ccs_ridge_gd_custom_r2_score = r2_score(ccs_test_scaled_y, ccs_ridge_gd_custom_test_pred)\n",
    "print(f\"MSE : {ccs_ridge_gd_custom_mse} \\nR2 Score : {ccs_ridge_gd_custom_r2_score}\")\n",
    "print(f\"Estimated Coefficients: \\n{ccs_ridge_gd_custom.coefficients}\")\n",
    "print(f\"Estimated Intercept: \\n{ccs_ridge_gd_custom.intercept}\")"
   ]
  },
  {
   "cell_type": "markdown",
   "id": "a5a955a5-507f-4738-b655-ccacbfcaf43c",
   "metadata": {},
   "source": [
    "## Lasso Regression -> Coordinate Descent"
   ]
  },
  {
   "cell_type": "markdown",
   "id": "2ca79a43-f2b4-498a-8f16-eab0bb1bb69e",
   "metadata": {},
   "source": [
    "### Synthetic Data"
   ]
  },
  {
   "cell_type": "code",
   "execution_count": 30,
   "id": "9a73c263-a7fd-44d7-ac53-cd186865102f",
   "metadata": {},
   "outputs": [
    {
     "name": "stdout",
     "output_type": "stream",
     "text": [
      "Final Train Loss : 0.0009\n",
      "MSE : 0.037306444405112646 \n",
      "R2 Score : 0.9978113211018478\n",
      "Actual Coefficients: \n",
      "[[-3.21747533]\n",
      " [ 0.        ]\n",
      " [-3.26519926]\n",
      " [ 0.        ]\n",
      " [ 1.37553264]\n",
      " [-0.03833616]\n",
      " [ 0.        ]\n",
      " [-2.0055649 ]\n",
      " [ 0.        ]\n",
      " [ 3.01366916]\n",
      " [ 2.66588524]\n",
      " [ 2.3361583 ]\n",
      " [ 0.        ]\n",
      " [ 0.        ]\n",
      " [ 0.        ]\n",
      " [ 0.        ]]\n",
      "Estimated Coefficients: \n",
      "[-1.22521019e-02 -5.97432336e-01  1.49383078e-03  2.25067797e-01\n",
      " -1.22426467e-02 -5.34481028e-03 -3.66962619e-01  2.60277725e-04\n",
      "  4.68111793e-01  4.53726599e-01  3.78729136e-01 -2.58320924e-03\n",
      " -1.62928708e-02  2.57082660e-03  4.47030067e-03]\n",
      "Estimated Intercept: \n",
      "-4.874572967494828e-16\n"
     ]
    }
   ],
   "source": [
    "syn_lasso_cd_custom = Lasso_CD()\n",
    "syn_lasso_cd_custom.fit(syn_train_scaled_x, syn_train_scaled_y.reshape(-1, ))\n",
    "syn_lasso_cd_custom_test_pred = syn_lasso_cd_custom.predict(syn_test_scaled_x)\n",
    "syn_lasso_cd_custom_mse = mse(syn_test_scaled_y, syn_lasso_cd_custom_test_pred)\n",
    "syn_lasso_cd_custom_r2_score = r2_score(syn_test_scaled_y, syn_lasso_cd_custom_test_pred)\n",
    "print(f\"MSE : {syn_sgd_lasso_mse} \\nR2 Score : {syn_lasso_cd_custom_r2_score}\")\n",
    "print(f\"Actual Coefficients: \\n{np.array(syn_true_beta)}\")\n",
    "print(f\"Estimated Coefficients: \\n{syn_lasso_cd_custom.coefficients}\")\n",
    "print(f\"Estimated Intercept: \\n{syn_lasso_cd_custom.intercept}\")"
   ]
  },
  {
   "cell_type": "markdown",
   "id": "13120891-806a-4eaf-8fd8-fed4ec28aeb7",
   "metadata": {},
   "source": [
    "### Concrete Compression Strength Data"
   ]
  },
  {
   "cell_type": "code",
   "execution_count": 32,
   "id": "5799aea9-e368-4a20-b231-dd4e7fa6a2c3",
   "metadata": {},
   "outputs": [
    {
     "name": "stdout",
     "output_type": "stream",
     "text": [
      "Final Train Loss : 0.3760\n",
      "MSE : 0.4444285862610935 \n",
      "R2 Score : 0.5732112833091989\n",
      "Estimated Coefficients: \n",
      "[ 0.72853284  0.5035003   0.31747429 -0.19993779  0.11563616  0.08466813\n",
      "  0.0664118   0.44382526]\n",
      "Estimated Intercept: \n",
      "9.90712366513201e-16\n"
     ]
    }
   ],
   "source": [
    "ccs_lasso_cd_custom = Lasso_CD()\n",
    "ccs_lasso_cd_custom.fit(ccs_train_scaled_x, ccs_train_scaled_y.reshape(-1, ))\n",
    "ccs_lasso_cd_custom_test_pred = ccs_lasso_cd_custom.predict(ccs_test_scaled_x)\n",
    "ccs_lasso_cd_custom_mse = mse(ccs_test_scaled_y, ccs_lasso_cd_custom_test_pred)\n",
    "ccs_lasso_cd_custom_r2_score = r2_score(ccs_test_scaled_y, ccs_lasso_cd_custom_test_pred)\n",
    "print(f\"MSE : {ccs_lasso_cd_custom_mse} \\nR2 Score : {ccs_lasso_cd_custom_r2_score}\")\n",
    "print(f\"Estimated Coefficients: \\n{ccs_lasso_cd_custom.coefficients}\")\n",
    "print(f\"Estimated Intercept: \\n{ccs_lasso_cd_custom.intercept}\")"
   ]
  }
 ],
 "metadata": {
  "kernelspec": {
   "display_name": "Python 3 (ipykernel)",
   "language": "python",
   "name": "python3"
  },
  "language_info": {
   "codemirror_mode": {
    "name": "ipython",
    "version": 3
   },
   "file_extension": ".py",
   "mimetype": "text/x-python",
   "name": "python",
   "nbconvert_exporter": "python",
   "pygments_lexer": "ipython3",
   "version": "3.11.9"
  }
 },
 "nbformat": 4,
 "nbformat_minor": 5
}
